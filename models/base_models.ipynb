{
 "cells": [
  {
   "attachments": {},
   "cell_type": "markdown",
   "metadata": {},
   "source": [
    "# Dummy Model\n"
   ]
  },
  {
   "cell_type": "code",
   "execution_count": 1,
   "metadata": {},
   "outputs": [],
   "source": [
    "%load_ext autoreload"
   ]
  },
  {
   "cell_type": "code",
   "execution_count": 2,
   "metadata": {},
   "outputs": [],
   "source": [
    "%autoreload 2"
   ]
  },
  {
   "cell_type": "code",
   "execution_count": 3,
   "metadata": {},
   "outputs": [],
   "source": [
    "from util import *\n",
    "import numpy as np\n",
    "from sklearn.model_selection import train_test_split,cross_val_score,cross_validate\n",
    "from sklearn.metrics import accuracy_score, classification_report,confusion_matrix ,f1_score\n",
    "from sklearn.dummy import DummyClassifier\n",
    "\n",
    "NUM_FOLDS = 10\n"
   ]
  },
  {
   "attachments": {},
   "cell_type": "markdown",
   "metadata": {},
   "source": [
    "## Read the data\n"
   ]
  },
  {
   "attachments": {},
   "cell_type": "markdown",
   "metadata": {},
   "source": [
    "### Train Data\n"
   ]
  },
  {
   "cell_type": "code",
   "execution_count": 4,
   "metadata": {},
   "outputs": [],
   "source": [
    "X, y = get_train_data(path='../data/train_pca_20.csv',training_size=None)"
   ]
  },
  {
   "cell_type": "code",
   "execution_count": 5,
   "metadata": {},
   "outputs": [],
   "source": [
    "# standardize the data\n",
    "X = standardize_features(X)"
   ]
  },
  {
   "cell_type": "code",
   "execution_count": 6,
   "metadata": {},
   "outputs": [],
   "source": [
    "X_train, X_test, y_train, y_test = train_test_split(X, y, test_size=0.2, random_state=42)"
   ]
  },
  {
   "attachments": {},
   "cell_type": "markdown",
   "metadata": {},
   "source": [
    "## Dummy Model\n",
    "\n",
    "The DummyClassifier class in scikit-learn provides several strategies for a baseline method, such as predicting the most frequent class label, predicting a random class label, or predicting based on the class distribution of the training set.\n",
    "\n",
    "**Strategy to use to generate predictions:**\n",
    "\n",
    "1. most_frequent:\n",
    "   - The predict method always returns the most frequent class label in the observed y argument passed to fit.\n",
    "   - The predict_proba method returns the matching one-hot encoded vector.\n",
    "2. prior:\n",
    "\n",
    "- The predict method always returns the most frequent class label in the observed y argument passed to fit (like most_frequent).\n",
    "- Predict_proba always returns the empirical class distribution of y also known as the empirical class prior distribution.\n",
    "\n",
    "3. stratified:\n",
    "\n",
    "- The predict_proba method randomly samples one-hot vectors from a multinomial distribution parametrized by the empirical class prior probabilities.\n",
    "- The predict method returns the class label which got probability one in the one-hot vector of predict_proba. Each sampled row of both methods is therefore independent and identically distributed.\n",
    "\n",
    "4. uniform:\n",
    "\n",
    "- Generates predictions uniformly at random from the list of unique classes observed in y, i.e. each class has equal probability.\n",
    "\n",
    "5. constant:\n",
    "\n",
    "- Always predicts a constant label that is provided by the user. This is useful for metrics that evaluate a non-majority class.\n"
   ]
  },
  {
   "cell_type": "code",
   "execution_count": 7,
   "metadata": {},
   "outputs": [
    {
     "name": "stdout",
     "output_type": "stream",
     "text": [
      "accuracy:  0.81896875\n",
      "f1_macro:  0.49978042348767227\n",
      "f1_micro:  0.81896875\n"
     ]
    }
   ],
   "source": [
    "# Train ZeroR on the training set\n",
    "zeroR = DummyClassifier(strategy='stratified')\n",
    "zeroR.fit(X_train, y_train)\n",
    "\n",
    "cv_results = cross_validate(zeroR, X_train, y_train, cv=NUM_FOLDS, scoring=[\n",
    "                            'f1_macro', 'accuracy', 'f1_micro'])\n",
    "\n",
    "print('accuracy: ', cv_results['test_accuracy'].mean())\n",
    "print('f1_macro: ', cv_results['test_f1_macro'].mean())\n",
    "print('f1_micro: ', cv_results['test_f1_micro'].mean())\n"
   ]
  },
  {
   "cell_type": "code",
   "execution_count": 8,
   "metadata": {},
   "outputs": [
    {
     "name": "stdout",
     "output_type": "stream",
     "text": [
      "ZeroR Accuracy: 0.815875\n",
      "Classification Report:\n",
      "              precision    recall  f1-score   support\n",
      "\n",
      "           0       0.90      0.90      0.90     35903\n",
      "           1       0.09      0.09      0.09      4097\n",
      "\n",
      "    accuracy                           0.82     40000\n",
      "   macro avg       0.49      0.49      0.49     40000\n",
      "weighted avg       0.81      0.82      0.82     40000\n",
      "\n"
     ]
    }
   ],
   "source": [
    "# Make predictions\n",
    "zero_r_pred = zeroR.predict(X_test)\n",
    "\n",
    "zero_r_accuracy = accuracy_score(y_test, zero_r_pred)\n",
    "print(\"ZeroR Accuracy:\", zero_r_accuracy)\n",
    "\n",
    "print(\"Classification Report:\")\n",
    "print(classification_report(y_test, zero_r_pred))"
   ]
  },
  {
   "cell_type": "code",
   "execution_count": 9,
   "metadata": {},
   "outputs": [
    {
     "name": "stdout",
     "output_type": "stream",
     "text": [
      "accuracy:  0.8999937499999999\n",
      "f1_macro:  0.47368247916742423\n",
      "f1_micro:  0.8999937499999999\n"
     ]
    }
   ],
   "source": [
    "# Train ZeroR on the training set\n",
    "zeroR = DummyClassifier(strategy='most_frequent')\n",
    "zeroR.fit(X_train, y_train)\n",
    "\n",
    "cv_results = cross_validate(zeroR, X_train, y_train, cv=NUM_FOLDS, scoring=[\n",
    "                            'f1_macro', 'accuracy', 'f1_micro'])\n",
    "\n",
    "print('accuracy: ', cv_results['test_accuracy'].mean())\n",
    "print('f1_macro: ', cv_results['test_f1_macro'].mean())\n",
    "print('f1_micro: ', cv_results['test_f1_micro'].mean())\n"
   ]
  },
  {
   "cell_type": "code",
   "execution_count": 10,
   "metadata": {},
   "outputs": [
    {
     "name": "stdout",
     "output_type": "stream",
     "text": [
      "ZeroR Accuracy: 0.897575\n",
      "Classification Report:\n",
      "              precision    recall  f1-score   support\n",
      "\n",
      "           0       0.90      1.00      0.95     35903\n",
      "           1       0.00      0.00      0.00      4097\n",
      "\n",
      "    accuracy                           0.90     40000\n",
      "   macro avg       0.45      0.50      0.47     40000\n",
      "weighted avg       0.81      0.90      0.85     40000\n",
      "\n"
     ]
    },
    {
     "name": "stderr",
     "output_type": "stream",
     "text": [
      "c:\\Users\\peter\\miniconda3\\Lib\\site-packages\\sklearn\\metrics\\_classification.py:1469: UndefinedMetricWarning: Precision and F-score are ill-defined and being set to 0.0 in labels with no predicted samples. Use `zero_division` parameter to control this behavior.\n",
      "  _warn_prf(average, modifier, msg_start, len(result))\n",
      "c:\\Users\\peter\\miniconda3\\Lib\\site-packages\\sklearn\\metrics\\_classification.py:1469: UndefinedMetricWarning: Precision and F-score are ill-defined and being set to 0.0 in labels with no predicted samples. Use `zero_division` parameter to control this behavior.\n",
      "  _warn_prf(average, modifier, msg_start, len(result))\n",
      "c:\\Users\\peter\\miniconda3\\Lib\\site-packages\\sklearn\\metrics\\_classification.py:1469: UndefinedMetricWarning: Precision and F-score are ill-defined and being set to 0.0 in labels with no predicted samples. Use `zero_division` parameter to control this behavior.\n",
      "  _warn_prf(average, modifier, msg_start, len(result))\n"
     ]
    }
   ],
   "source": [
    "# Make predictions\n",
    "zero_r_pred = zeroR.predict(X_test)\n",
    "\n",
    "zero_r_accuracy = accuracy_score(y_test, zero_r_pred)\n",
    "print(\"ZeroR Accuracy:\", zero_r_accuracy)\n",
    "\n",
    "print(\"Classification Report:\")\n",
    "print(classification_report(y_test, zero_r_pred))"
   ]
  },
  {
   "cell_type": "code",
   "execution_count": 11,
   "metadata": {},
   "outputs": [
    {
     "name": "stdout",
     "output_type": "stream",
     "text": [
      "accuracy:  0.8999937499999999\n",
      "f1_macro:  0.47368247916742423\n",
      "f1_micro:  0.8999937499999999\n"
     ]
    }
   ],
   "source": [
    "# Train ZeroR on the training set\n",
    "zeroR = DummyClassifier(strategy='prior')\n",
    "zeroR.fit(X_train, y_train)\n",
    "\n",
    "cv_results = cross_validate(zeroR, X_train, y_train, cv=NUM_FOLDS, scoring=[\n",
    "                            'f1_macro', 'accuracy', 'f1_micro'])\n",
    "\n",
    "print('accuracy: ', cv_results['test_accuracy'].mean())\n",
    "print('f1_macro: ', cv_results['test_f1_macro'].mean())\n",
    "print('f1_micro: ', cv_results['test_f1_micro'].mean())\n"
   ]
  },
  {
   "cell_type": "code",
   "execution_count": 12,
   "metadata": {},
   "outputs": [
    {
     "name": "stdout",
     "output_type": "stream",
     "text": [
      "ZeroR Accuracy: 0.897575\n",
      "Classification Report:\n",
      "              precision    recall  f1-score   support\n",
      "\n",
      "           0       0.90      1.00      0.95     35903\n",
      "           1       0.00      0.00      0.00      4097\n",
      "\n",
      "    accuracy                           0.90     40000\n",
      "   macro avg       0.45      0.50      0.47     40000\n",
      "weighted avg       0.81      0.90      0.85     40000\n",
      "\n"
     ]
    },
    {
     "name": "stderr",
     "output_type": "stream",
     "text": [
      "c:\\Users\\peter\\miniconda3\\Lib\\site-packages\\sklearn\\metrics\\_classification.py:1469: UndefinedMetricWarning: Precision and F-score are ill-defined and being set to 0.0 in labels with no predicted samples. Use `zero_division` parameter to control this behavior.\n",
      "  _warn_prf(average, modifier, msg_start, len(result))\n",
      "c:\\Users\\peter\\miniconda3\\Lib\\site-packages\\sklearn\\metrics\\_classification.py:1469: UndefinedMetricWarning: Precision and F-score are ill-defined and being set to 0.0 in labels with no predicted samples. Use `zero_division` parameter to control this behavior.\n",
      "  _warn_prf(average, modifier, msg_start, len(result))\n",
      "c:\\Users\\peter\\miniconda3\\Lib\\site-packages\\sklearn\\metrics\\_classification.py:1469: UndefinedMetricWarning: Precision and F-score are ill-defined and being set to 0.0 in labels with no predicted samples. Use `zero_division` parameter to control this behavior.\n",
      "  _warn_prf(average, modifier, msg_start, len(result))\n"
     ]
    }
   ],
   "source": [
    "# Make predictions\n",
    "zero_r_pred = zeroR.predict(X_test)\n",
    "\n",
    "zero_r_accuracy = accuracy_score(y_test, zero_r_pred)\n",
    "print(\"ZeroR Accuracy:\", zero_r_accuracy)\n",
    "\n",
    "print(\"Classification Report:\")\n",
    "print(classification_report(y_test, zero_r_pred))"
   ]
  },
  {
   "cell_type": "code",
   "execution_count": 13,
   "metadata": {},
   "outputs": [
    {
     "name": "stdout",
     "output_type": "stream",
     "text": [
      "accuracy:  0.49970625\n",
      "f1_macro:  0.4048827731737331\n",
      "f1_micro:  0.49970625\n"
     ]
    }
   ],
   "source": [
    "# Train ZeroR on the training set\n",
    "zeroR = DummyClassifier(strategy='uniform')\n",
    "zeroR.fit(X_train, y_train)\n",
    "\n",
    "cv_results = cross_validate(zeroR, X_train, y_train, cv=NUM_FOLDS, scoring=[\n",
    "                            'f1_macro', 'accuracy', 'f1_micro'])\n",
    "\n",
    "print('accuracy: ', cv_results['test_accuracy'].mean())\n",
    "print('f1_macro: ', cv_results['test_f1_macro'].mean())\n",
    "print('f1_micro: ', cv_results['test_f1_micro'].mean())\n"
   ]
  },
  {
   "cell_type": "code",
   "execution_count": 14,
   "metadata": {},
   "outputs": [
    {
     "name": "stdout",
     "output_type": "stream",
     "text": [
      "ZeroR Accuracy: 0.499225\n",
      "Classification Report:\n",
      "              precision    recall  f1-score   support\n",
      "\n",
      "           0       0.90      0.50      0.64     35903\n",
      "           1       0.10      0.49      0.17      4097\n",
      "\n",
      "    accuracy                           0.50     40000\n",
      "   macro avg       0.50      0.50      0.40     40000\n",
      "weighted avg       0.81      0.50      0.59     40000\n",
      "\n"
     ]
    }
   ],
   "source": [
    "# Make predictions\n",
    "zero_r_pred = zeroR.predict(X_test)\n",
    "\n",
    "zero_r_accuracy = accuracy_score(y_test, zero_r_pred)\n",
    "print(\"ZeroR Accuracy:\", zero_r_accuracy)\n",
    "\n",
    "print(\"Classification Report:\")\n",
    "print(classification_report(y_test, zero_r_pred))"
   ]
  },
  {
   "cell_type": "code",
   "execution_count": 15,
   "metadata": {},
   "outputs": [
    {
     "name": "stdout",
     "output_type": "stream",
     "text": [
      "accuracy:  0.8999937499999999\n",
      "f1_macro:  0.47368247916742423\n",
      "f1_micro:  0.8999937499999999\n"
     ]
    }
   ],
   "source": [
    "# Train ZeroR on the training set\n",
    "zeroR = DummyClassifier(strategy='constant', constant=0)\n",
    "zeroR.fit(X_train, y_train)\n",
    "\n",
    "cv_results = cross_validate(zeroR, X_train, y_train, cv=NUM_FOLDS, scoring=[\n",
    "                            'f1_macro', 'accuracy', 'f1_micro'])\n",
    "\n",
    "print('accuracy: ', cv_results['test_accuracy'].mean())\n",
    "print('f1_macro: ', cv_results['test_f1_macro'].mean())\n",
    "print('f1_micro: ', cv_results['test_f1_micro'].mean())\n"
   ]
  },
  {
   "cell_type": "code",
   "execution_count": 16,
   "metadata": {},
   "outputs": [
    {
     "name": "stdout",
     "output_type": "stream",
     "text": [
      "ZeroR Accuracy: 0.897575\n",
      "Classification Report:\n",
      "              precision    recall  f1-score   support\n",
      "\n",
      "           0       0.90      1.00      0.95     35903\n",
      "           1       0.00      0.00      0.00      4097\n",
      "\n",
      "    accuracy                           0.90     40000\n",
      "   macro avg       0.45      0.50      0.47     40000\n",
      "weighted avg       0.81      0.90      0.85     40000\n",
      "\n"
     ]
    },
    {
     "name": "stderr",
     "output_type": "stream",
     "text": [
      "c:\\Users\\peter\\miniconda3\\Lib\\site-packages\\sklearn\\metrics\\_classification.py:1469: UndefinedMetricWarning: Precision and F-score are ill-defined and being set to 0.0 in labels with no predicted samples. Use `zero_division` parameter to control this behavior.\n",
      "  _warn_prf(average, modifier, msg_start, len(result))\n",
      "c:\\Users\\peter\\miniconda3\\Lib\\site-packages\\sklearn\\metrics\\_classification.py:1469: UndefinedMetricWarning: Precision and F-score are ill-defined and being set to 0.0 in labels with no predicted samples. Use `zero_division` parameter to control this behavior.\n",
      "  _warn_prf(average, modifier, msg_start, len(result))\n",
      "c:\\Users\\peter\\miniconda3\\Lib\\site-packages\\sklearn\\metrics\\_classification.py:1469: UndefinedMetricWarning: Precision and F-score are ill-defined and being set to 0.0 in labels with no predicted samples. Use `zero_division` parameter to control this behavior.\n",
      "  _warn_prf(average, modifier, msg_start, len(result))\n"
     ]
    }
   ],
   "source": [
    "# Make predictions\n",
    "zero_r_pred = zeroR.predict(X_test)\n",
    "\n",
    "zero_r_accuracy = accuracy_score(y_test, zero_r_pred)\n",
    "print(\"ZeroR Accuracy:\", zero_r_accuracy)\n",
    "\n",
    "print(\"Classification Report:\")\n",
    "print(classification_report(y_test, zero_r_pred))"
   ]
  },
  {
   "cell_type": "code",
   "execution_count": null,
   "metadata": {},
   "outputs": [],
   "source": []
  }
 ],
 "metadata": {
  "kernelspec": {
   "display_name": "Python 3",
   "language": "python",
   "name": "python3"
  },
  "language_info": {
   "codemirror_mode": {
    "name": "ipython",
    "version": 3
   },
   "file_extension": ".py",
   "mimetype": "text/x-python",
   "name": "python",
   "nbconvert_exporter": "python",
   "pygments_lexer": "ipython3",
   "version": "3.11.5"
  },
  "orig_nbformat": 4
 },
 "nbformat": 4,
 "nbformat_minor": 2
}
